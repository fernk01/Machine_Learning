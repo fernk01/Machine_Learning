{
 "cells": [
  {
   "cell_type": "code",
   "execution_count": 36,
   "metadata": {},
   "outputs": [],
   "source": [
    "import pandas as pd\n",
    "import numpy as np\n",
    "\n",
    "import matplotlib.pyplot as plt\n",
    "import seaborn as sns"
   ]
  },
  {
   "cell_type": "markdown",
   "metadata": {},
   "source": [
    "# describe()"
   ]
  },
  {
   "cell_type": "markdown",
   "metadata": {},
   "source": [
    "[Desviación estándar muestral](https://es.wikipedia.org/wiki/Desviaci%C3%B3n_t%C3%ADpica) \n",
    "\n",
    "\n",
    "$$s = \\sqrt{\\frac{\\sum_{i=1}^{N} (x_i - \\bar{\\mu})^2}{N-1}}$$\n",
    "\n",
    "$ s = std $ "
   ]
  },
  {
   "cell_type": "markdown",
   "metadata": {},
   "source": [
    "a = [1, 2, 2, 5, 5]\n",
    "$$ \\mu = \\frac{1 + 2 + 2 + 5 + 5}{5} = 3 $$\n",
    "$$ \\sigma = \\sqrt{\\frac{(1-3)^2 + (2-3)^2 + (2-3)^2 + (5-3)^2 + (5-3)^2}{5}} \n",
    "\\\\\\\\ = \\sqrt{\\frac{4 + 1 + 1 + 4 + 4}{5-1}} \\\\\\\\\n",
    "= \\sqrt{\\frac{14}{4}} = \\sqrt{3.5} \\approx 1.87 $$"
   ]
  },
  {
   "cell_type": "markdown",
   "metadata": {},
   "source": [
    "[link youTube](https://www.youtube.com/watch?v=suSz9RXFNTs&list=PLeySRPnY35dG_Wo7ngNsT60lvahhW8UQy)\n",
    "\n",
    "Los porcentajes $ 25\\%, 50\\% 75\\%  $ son los cuartiles, que dividen los datos en 4 partes iguales. Esto se hace ordenando el conjunto de datos y seleccionando el valor que se encuentra en la posición $ \\frac{N}{4} $, $ \\frac{N}{2} $ y $ \\frac{3N}{4} $ respectivamente.\n",
    "\n",
    "la formula general para calcular el cuantil $ k $ es:\n",
    "\n",
    "$$ Q_k = k \\cdot \\frac{(n - 1)}{4} $$\n",
    "\n",
    "- n: número de datos\n",
    "- k: cuantil"
   ]
  },
  {
   "cell_type": "code",
   "execution_count": 37,
   "metadata": {},
   "outputs": [],
   "source": [
    "valores = [1, 2, 2, 5, 5]\n",
    "valores_series = pd.Series(valores)"
   ]
  },
  {
   "cell_type": "code",
   "execution_count": 38,
   "metadata": {},
   "outputs": [
    {
     "data": {
      "text/plain": [
       "count    5.000000\n",
       "mean     3.000000\n",
       "std      1.870829\n",
       "min      1.000000\n",
       "25%      2.000000\n",
       "50%      2.000000\n",
       "75%      5.000000\n",
       "max      5.000000\n",
       "dtype: float64"
      ]
     },
     "execution_count": 38,
     "metadata": {},
     "output_type": "execute_result"
    }
   ],
   "source": [
    "valores_series.describe()"
   ]
  },
  {
   "cell_type": "markdown",
   "metadata": {},
   "source": [
    "# Correlación"
   ]
  },
  {
   "cell_type": "markdown",
   "metadata": {},
   "source": [
    "ver link: [correlación-YouTube](https://www.youtube.com/watch?v=fNeXC8d5En8)"
   ]
  },
  {
   "cell_type": "code",
   "execution_count": 39,
   "metadata": {},
   "outputs": [],
   "source": [
    "y = np.array([3, 5, 9, 10, 20, 21, 24, 24, 27, 35])\n",
    "x = np.array([100, 90, 80, 45, 50, 50, 60, 40, 25, 20])"
   ]
  },
  {
   "cell_type": "code",
   "execution_count": 40,
   "metadata": {},
   "outputs": [
    {
     "data": {
      "text/plain": [
       "array([[ 1.        , -0.88223289],\n",
       "       [-0.88223289,  1.        ]])"
      ]
     },
     "execution_count": 40,
     "metadata": {},
     "output_type": "execute_result"
    }
   ],
   "source": [
    "np.corrcoef(x, y)"
   ]
  },
  {
   "cell_type": "code",
   "execution_count": null,
   "metadata": {},
   "outputs": [],
   "source": []
  }
 ],
 "metadata": {
  "kernelspec": {
   "display_name": "Python 3",
   "language": "python",
   "name": "python3"
  },
  "language_info": {
   "codemirror_mode": {
    "name": "ipython",
    "version": 3
   },
   "file_extension": ".py",
   "mimetype": "text/x-python",
   "name": "python",
   "nbconvert_exporter": "python",
   "pygments_lexer": "ipython3",
   "version": "3.10.10"
  }
 },
 "nbformat": 4,
 "nbformat_minor": 2
}
