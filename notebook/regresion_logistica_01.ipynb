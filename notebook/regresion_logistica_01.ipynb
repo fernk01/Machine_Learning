{
  "cells": [
    {
      "cell_type": "code",
      "execution_count": 58,
      "metadata": {
        "id": "z71cXSsUhuf_"
      },
      "outputs": [],
      "source": [
        "import pandas as pd\n",
        "import numpy as np\n",
        "\n",
        "import seaborn as sns\n",
        "import matplotlib.pylab as plt\n",
        "\n",
        "from sklearn.model_selection import train_test_split\n",
        "from sklearn.linear_model import LogisticRegression"
      ]
    },
    {
      "attachments": {},
      "cell_type": "markdown",
      "metadata": {},
      "source": [
        "# Regresion logistica para una sola variable."
      ]
    },
    {
      "attachments": {},
      "cell_type": "markdown",
      "metadata": {},
      "source": [
        "$$s_\\theta(x) = g(x) =  \\frac{1}{1+ e^{(\\beta_0 + \\beta_1 \\cdot x)}}$$"
      ]
    },
    {
      "attachments": {},
      "cell_type": "markdown",
      "metadata": {},
      "source": [
        "La salida de la función sigmoidea es continua entre 0 y 1, pudiéndose interpretar como probabilidad de pertenencia a la clase 1\n",
        "\n",
        "Seguimos necesitando definir un umbral, continuemos considerando 0,5\n",
        "  * Si $s_\\beta(x) < 0.5$  entonces $x$ pertencerá a la clase 0\n",
        "  * Si $s_\\beta(x) \\ge 0.5$  entonces $x$ pertencerá a la clase 1\n",
        "\n"
      ]
    },
    {
      "attachments": {},
      "cell_type": "markdown",
      "metadata": {
        "id": "vycffpPkhw9N"
      },
      "source": [
        "Usamos el dataset que se obtuvo de wikipedia.\n",
        "[Ejemplo wiki](https://en.wikipedia.org/wiki/Logistic_regression)"
      ]
    },
    {
      "attachments": {},
      "cell_type": "markdown",
      "metadata": {
        "id": "2DKho-bDh0Kb"
      },
      "source": [
        "* Variable predictora: hours: Horas de estudio\n",
        "* Variable objetivo (target): pass\n",
        "    - aprobo (1)\n",
        "    - reprobo (0)"
      ]
    },
    {
      "cell_type": "code",
      "execution_count": 59,
      "metadata": {
        "colab": {
          "base_uri": "https://localhost:8080/",
          "height": 676
        },
        "id": "sIl68yHmh0yS",
        "outputId": "3d06504f-3e80-410c-cd6e-2bfe151de593"
      },
      "outputs": [
        {
          "data": {
            "text/html": [
              "<div>\n",
              "<style scoped>\n",
              "    .dataframe tbody tr th:only-of-type {\n",
              "        vertical-align: middle;\n",
              "    }\n",
              "\n",
              "    .dataframe tbody tr th {\n",
              "        vertical-align: top;\n",
              "    }\n",
              "\n",
              "    .dataframe thead th {\n",
              "        text-align: right;\n",
              "    }\n",
              "</style>\n",
              "<table border=\"1\" class=\"dataframe\">\n",
              "  <thead>\n",
              "    <tr style=\"text-align: right;\">\n",
              "      <th></th>\n",
              "      <th>hours</th>\n",
              "      <th>pass</th>\n",
              "    </tr>\n",
              "  </thead>\n",
              "  <tbody>\n",
              "    <tr>\n",
              "      <th>0</th>\n",
              "      <td>0.50</td>\n",
              "      <td>0</td>\n",
              "    </tr>\n",
              "    <tr>\n",
              "      <th>1</th>\n",
              "      <td>0.75</td>\n",
              "      <td>0</td>\n",
              "    </tr>\n",
              "    <tr>\n",
              "      <th>2</th>\n",
              "      <td>1.00</td>\n",
              "      <td>0</td>\n",
              "    </tr>\n",
              "    <tr>\n",
              "      <th>3</th>\n",
              "      <td>1.25</td>\n",
              "      <td>0</td>\n",
              "    </tr>\n",
              "    <tr>\n",
              "      <th>4</th>\n",
              "      <td>1.50</td>\n",
              "      <td>0</td>\n",
              "    </tr>\n",
              "    <tr>\n",
              "      <th>5</th>\n",
              "      <td>1.75</td>\n",
              "      <td>0</td>\n",
              "    </tr>\n",
              "    <tr>\n",
              "      <th>6</th>\n",
              "      <td>1.75</td>\n",
              "      <td>1</td>\n",
              "    </tr>\n",
              "    <tr>\n",
              "      <th>7</th>\n",
              "      <td>2.00</td>\n",
              "      <td>0</td>\n",
              "    </tr>\n",
              "    <tr>\n",
              "      <th>8</th>\n",
              "      <td>2.25</td>\n",
              "      <td>1</td>\n",
              "    </tr>\n",
              "    <tr>\n",
              "      <th>9</th>\n",
              "      <td>2.50</td>\n",
              "      <td>0</td>\n",
              "    </tr>\n",
              "    <tr>\n",
              "      <th>10</th>\n",
              "      <td>2.75</td>\n",
              "      <td>1</td>\n",
              "    </tr>\n",
              "    <tr>\n",
              "      <th>11</th>\n",
              "      <td>3.00</td>\n",
              "      <td>0</td>\n",
              "    </tr>\n",
              "    <tr>\n",
              "      <th>12</th>\n",
              "      <td>3.25</td>\n",
              "      <td>1</td>\n",
              "    </tr>\n",
              "    <tr>\n",
              "      <th>13</th>\n",
              "      <td>3.50</td>\n",
              "      <td>0</td>\n",
              "    </tr>\n",
              "    <tr>\n",
              "      <th>14</th>\n",
              "      <td>4.00</td>\n",
              "      <td>1</td>\n",
              "    </tr>\n",
              "    <tr>\n",
              "      <th>15</th>\n",
              "      <td>4.25</td>\n",
              "      <td>1</td>\n",
              "    </tr>\n",
              "    <tr>\n",
              "      <th>16</th>\n",
              "      <td>4.50</td>\n",
              "      <td>1</td>\n",
              "    </tr>\n",
              "    <tr>\n",
              "      <th>17</th>\n",
              "      <td>4.75</td>\n",
              "      <td>1</td>\n",
              "    </tr>\n",
              "    <tr>\n",
              "      <th>18</th>\n",
              "      <td>5.00</td>\n",
              "      <td>1</td>\n",
              "    </tr>\n",
              "    <tr>\n",
              "      <th>19</th>\n",
              "      <td>5.50</td>\n",
              "      <td>1</td>\n",
              "    </tr>\n",
              "  </tbody>\n",
              "</table>\n",
              "</div>"
            ],
            "text/plain": [
              "    hours  pass\n",
              "0    0.50     0\n",
              "1    0.75     0\n",
              "2    1.00     0\n",
              "3    1.25     0\n",
              "4    1.50     0\n",
              "5    1.75     0\n",
              "6    1.75     1\n",
              "7    2.00     0\n",
              "8    2.25     1\n",
              "9    2.50     0\n",
              "10   2.75     1\n",
              "11   3.00     0\n",
              "12   3.25     1\n",
              "13   3.50     0\n",
              "14   4.00     1\n",
              "15   4.25     1\n",
              "16   4.50     1\n",
              "17   4.75     1\n",
              "18   5.00     1\n",
              "19   5.50     1"
            ]
          },
          "execution_count": 59,
          "metadata": {},
          "output_type": "execute_result"
        }
      ],
      "source": [
        "# Crear un DataFrame de ejemplo\n",
        "data = {'hours': [0.5, 0.75, 1, 1.25, 1.5, 1.75, 1.75, 2.00, 2.25, 2.50, 2.75, 3.00, 3.25, 3.50, 4.00, 4.25, 4.50, 4.75, 5.00, 5.50],\n",
        "        'pass': [0, 0, 0, 0, 0, 0, 1, 0, 1, 0, 1, 0, 1, 0, 1, 1, 1, 1, 1, 1]}\n",
        "df = pd.DataFrame(data)\n",
        "df"
      ]
    },
    {
      "cell_type": "code",
      "execution_count": 60,
      "metadata": {},
      "outputs": [
        {
          "data": {
            "text/plain": [
              "<Axes: xlabel='hours', ylabel='pass'>"
            ]
          },
          "execution_count": 60,
          "metadata": {},
          "output_type": "execute_result"
        },
        {
          "data": {
            "image/png": "[encoded data removed]",
            "text/plain": [
              "<Figure size 640x480 with 1 Axes>"
            ]
          },
          "metadata": {},
          "output_type": "display_data"
        }
      ],
      "source": [
        "# Graficmos los datos\n",
        "sns.scatterplot(x='hours', y='pass', data=df)"
      ]
    },
    {
      "cell_type": "code",
      "execution_count": 61,
      "metadata": {
        "id": "EMSneuujh3Mq"
      },
      "outputs": [],
      "source": [
        "# Dividir los datos en conjuntos de entrenamiento y prueba\n",
        "X = df[['hours']]\n",
        "y = df['pass']\n",
        "X_train, X_test, y_train, y_test = train_test_split(X, y)\n",
        "\n",
        "# Crear y entrenar el modelo de regresión logística\n",
        "model = LogisticRegression()\n",
        "model.fit(X_train, y_train)\n",
        "\n",
        "# Predecir las etiquetas para el conjunto de prueba\n",
        "y_pred = model.predict(X_test)"
      ]
    },
    {
      "cell_type": "markdown",
      "metadata": {
        "id": "ux2mrU8bh6ob"
      },
      "source": [
        "Que tambiem predice el modelo"
      ]
    },
    {
      "cell_type": "code",
      "execution_count": 62,
      "metadata": {
        "colab": {
          "base_uri": "https://localhost:8080/"
        },
        "id": "IZ9n3LZNh7Fy",
        "outputId": "3111dba8-c134-489f-f852-7db5f1964c30"
      },
      "outputs": [
        {
          "name": "stdout",
          "output_type": "stream",
          "text": [
            "[1 1 1 0 0]\n",
            "[0 1 1 0 0]\n"
          ]
        }
      ],
      "source": [
        "print(y_test.values) # es una serie\n",
        "print(y_pred) # es un narray"
      ]
    },
    {
      "cell_type": "code",
      "execution_count": 63,
      "metadata": {},
      "outputs": [
        {
          "name": "stdout",
          "output_type": "stream",
          "text": [
            "0.8\n"
          ]
        }
      ],
      "source": [
        "# calculaamos el accuracy\n",
        "print(model.score(X_test, y_test))"
      ]
    },
    {
      "attachments": {},
      "cell_type": "markdown",
      "metadata": {
        "id": "tDm2pGPwiAcD"
      },
      "source": [
        "Los parámetros de la función sigmoide se estiman automáticamente cuando se ajusta el modelo de regresión logística utilizando el método fit del objeto LogisticRegression. Los valores estimados de los parámetros se almacenan en los atributos intercept_ y coef_ del modelo ajustado."
      ]
    },
    {
      "cell_type": "code",
      "execution_count": 64,
      "metadata": {
        "colab": {
          "base_uri": "https://localhost:8080/",
          "height": 265
        },
        "id": "X5LN1YaiiAy6",
        "outputId": "f668bd43-9935-4ae3-d5b6-fe7ee7237fe4"
      },
      "outputs": [
        {
          "data": {
            "image/png": "[encoded data removed]",
            "text/plain": [
              "<Figure size 640x480 with 1 Axes>"
            ]
          },
          "metadata": {},
          "output_type": "display_data"
        }
      ],
      "source": [
        "# Plot the data\n",
        "plt.scatter(df['hours'], df['pass'], color='black')\n",
        "\n",
        "# Create a sigmoid function to represent the logistic regression model\n",
        "def sigmoid(x):\n",
        "    return 1 / (1 + np.exp(-x))\n",
        "\n",
        "# Plot the sigmoid curve\n",
        "x = np.linspace(0, 6, 100)\n",
        "\n",
        "# Los parametros se estiman automatiamente\n",
        "beta_0 = model.intercept_[0]\n",
        "beta_1 = model.coef_[0][0]\n",
        "y = sigmoid(beta_0 + beta_1 * x)\n",
        "\n",
        "plt.plot(x, y)\n",
        "# Show the plot\n",
        "\n",
        "# diujamos un linea en y = 0.5 y su interseccion con la curva\n",
        "plt.axhline(y=0.5, color='r', linestyle='--')\n",
        "\n",
        "plt.grid()\n",
        "plt.show()"
      ]
    },
    {
      "cell_type": "code",
      "execution_count": 65,
      "metadata": {
        "colab": {
          "base_uri": "https://localhost:8080/"
        },
        "id": "pwJLt7NyiCYS",
        "outputId": "d8d47248-f81f-4e3d-ede5-afd8a9ff5a31"
      },
      "outputs": [
        {
          "data": {
            "text/plain": [
              "array([0, 1, 1, 1, 1, 1], dtype=int64)"
            ]
          },
          "execution_count": 65,
          "metadata": {},
          "output_type": "execute_result"
        }
      ],
      "source": [
        "# Crear un DataFrame con una columna llamada 'hours'\n",
        "data = {'hours': [2.7, 2.9, 3, 3.1, 3.2, 3.5]}\n",
        "df = pd.DataFrame(data)\n",
        "\n",
        "# Predecir la etiqueta utilizando el DataFrame\n",
        "y_pred = model.predict(df)\n",
        "# el criterio se clasisficacion es 0.5.\n",
        "y_pred"
      ]
    },
    {
      "attachments": {},
      "cell_type": "markdown",
      "metadata": {},
      "source": [
        "# Regresion logistica para dos variables"
      ]
    },
    {
      "attachments": {},
      "cell_type": "markdown",
      "metadata": {},
      "source": [
        "$$s_\\theta(x) = g(\\beta^T x) =  \\frac{1}{1+ e^{(-\\beta^T x)}}$$"
      ]
    },
    {
      "attachments": {},
      "cell_type": "markdown",
      "metadata": {},
      "source": [
        "La salida de la función sigmoidea es continua entre 0 y 1, pudiéndose interpretar como probabilidad de pertenencia a la clase 1\n",
        "\n",
        "Seguimos necesitando definir un umbral, continuemos considerando 0,5\n",
        "  * Si $s_\\beta(x) < 0.5$  entonces $x$ pertencerá a la clase 0\n",
        "  * Si $s_\\beta(x) \\ge 0.5$  entonces $x$ pertencerá a la clase 1\n",
        "\n",
        "Elegir como umbral 0.5 nos da una imterpretación simple de  $\\beta^Tx$:\n",
        "$$ s_\\theta(x) = 0.5 \\\\ \\Rightarrow \\beta^Tx = 0$$ \n",
        "Es la ecuación de un hiperplano! \n"
      ]
    },
    {
      "attachments": {},
      "cell_type": "markdown",
      "metadata": {},
      "source": [
        "Por ejemplo:\n",
        "\n",
        "$\\beta_0 +\\beta_1 x_1 + \\beta_2 x_2 =0 $\n",
        "\n",
        "Se puede transformar en:\n",
        "\n",
        "$- \\beta_2 x_2 = \\beta_0 +\\beta_1 x_1 $\n",
        "\n",
        "$ x_2 =   - \\frac{\\beta_1}{\\beta_2} x_1 - \\frac{\\beta_0}{\\beta_2}$"
      ]
    },
    {
      "cell_type": "code",
      "execution_count": 66,
      "metadata": {},
      "outputs": [
        {
          "data": {
            "image/png": "[encoded data removed]",
            "text/plain": [
              "<Figure size 640x480 with 1 Axes>"
            ]
          },
          "metadata": {},
          "output_type": "display_data"
        }
      ],
      "source": [
        "# Genero un dataset sintético\n",
        "X = np.random.randint(20, size=(20,2))\n",
        "beta = np.array([[-0.1],[0.1]])\n",
        "Y = np.round( 1/(1+np.exp(np.dot(-X, beta))))\n",
        "\n",
        "ind0 = np.where(Y==0)\n",
        "ind1 = np.where(Y==1)\n",
        "plt.plot(X[ind0,0],X[ind0,1],'b.') \n",
        "plt.plot(X[ind1,0],X[ind1,1],'r.')\n",
        "plt.xlabel(\"x0\")\n",
        "plt.ylabel(\"x1\")\n",
        "plt.show()"
      ]
    },
    {
      "cell_type": "code",
      "execution_count": 67,
      "metadata": {},
      "outputs": [
        {
          "name": "stderr",
          "output_type": "stream",
          "text": [
            "c:\\Programas\\Python3-10-6\\lib\\site-packages\\sklearn\\utils\\validation.py:1143: DataConversionWarning: A column-vector y was passed when a 1d array was expected. Please change the shape of y to (n_samples, ), for example using ravel().\n",
            "  y = column_or_1d(y, warn=True)\n"
          ]
        },
        {
          "data": {
            "image/png": "[encoded data removed]",
            "text/plain": [
              "<Figure size 640x480 with 1 Axes>"
            ]
          },
          "metadata": {},
          "output_type": "display_data"
        }
      ],
      "source": [
        "# Creo el clasificador \n",
        "clf = LogisticRegression()\n",
        "clf.fit(X, Y)\n",
        "\n",
        "# Obtengo coeficientes para el modelo b0 + b1X + b2Y=0\n",
        "beta_0 = clf.intercept_\n",
        "beta_1 = clf.coef_[0,0]\n",
        "beta_2 = clf.coef_[0,1]\n",
        "\n",
        "#Graficamos\n",
        "x1 = np.arange(0,20,1)\n",
        "x2 = - beta_1/beta_2*x1 - beta_0/beta_2\n",
        "plt.plot(x1,x2)\n",
        "\n",
        "ind0 = np.where(Y==0)\n",
        "ind1 = np.where(Y==1)\n",
        "plt.plot(X[ind0,0],X[ind0,1],'b.') \n",
        "plt.plot(X[ind1,0],X[ind1,1],'r.')\n",
        "plt.xlabel(\"x0\")\n",
        "plt.ylabel(\"x1\")\n",
        "plt.show()"
      ]
    },
    {
      "cell_type": "code",
      "execution_count": null,
      "metadata": {},
      "outputs": [],
      "source": []
    }
  ],
  "metadata": {
    "colab": {
      "provenance": [],
      "toc_visible": true
    },
    "kernelspec": {
      "display_name": "Python 3",
      "name": "python3"
    },
    "language_info": {
      "codemirror_mode": {
        "name": "ipython",
        "version": 3
      },
      "file_extension": ".py",
      "mimetype": "text/x-python",
      "name": "python",
      "nbconvert_exporter": "python",
      "pygments_lexer": "ipython3",
      "version": "3.10.6"
    }
  },
  "nbformat": 4,
  "nbformat_minor": 0
}
