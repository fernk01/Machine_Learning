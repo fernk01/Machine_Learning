{
 "cells": [
  {
   "cell_type": "markdown",
   "metadata": {},
   "source": [
    "El GCPD recolecta la información de casos policiales que acontecen en Ciudad Gótica. Esta informacióñ se encuentra guarada en un archivo con el siguiente formato:\n",
    "\n",
    "(fecha, id_caso, descripción, estado_caso, categoria, latitud, longitud)\n",
    "\n",
    "Los posibels estados que puede tener un caso son 1: caso abierto, 2: caso resuelto, 3: cerrado sin resolucion.\n",
    "\n",
    "Las fechas se encuentran en el formato YYYY-MM-DD.\n",
    "\n",
    "Por otro lado el comisionado Gordon guarda un registro detallado sobre en cuales casos fue activada la batiseñal para pedir ayuda del vigilante, Batman. Esta información se encuentra en un archivo con el siguiente formato (id_caso, respeusta), siendo campo respuesta si la señal tuvo una respuesta positiva (1) o negativa (0) de parte de él.\n",
    "\n",
    "El sector encargado de las estadísticas oficiales del GCPD quiere analizar las siguientes situaciones:\n",
    "\n",
    "a) Las categorias que hayan incrementado su tasa de resolución al menos un 10% en el último trimestre, con respecto al trimestre anterior.\n",
    "\n",
    "b) Tasa de participación de Batman por categoria, para los delitos contra la propiedad (que enmarcan las categorías incendio intencional, robo, hurto y robo de vehiculos).\n",
    "\n",
    "Resolver ambas consultas utilizando Pandas.\n",
    "\n",
    "[Resolución de colaborador de la materia](https://gist.github.com/Roj/a19d82c1b8ebcb0198dc4773752b852a)\n",
    "\n",
    "[Link](https://piazza.com/class_profile/get_resource/jkr2voxi1yw4wt/jkr2vqroi7u4xe)"
   ]
  },
  {
   "cell_type": "code",
   "execution_count": 42,
   "metadata": {
    "ExecuteTime": {
     "end_time": "2024-05-12T13:41:56.635768Z",
     "start_time": "2024-05-12T13:41:56.253461Z"
    }
   },
   "outputs": [],
   "source": [
    "import pandas as pd\n",
    "import numpy as np"
   ]
  },
  {
   "cell_type": "code",
   "execution_count": 43,
   "metadata": {
    "ExecuteTime": {
     "end_time": "2024-05-12T13:41:56.640279Z",
     "start_time": "2024-05-12T13:41:56.635768Z"
    }
   },
   "outputs": [],
   "source": [
    "np.random.seed(100)\n",
    "num_datos = 10000\n",
    "\n",
    "fecha_inicio = '2022-01-25'\n",
    "fecha_fin = '2024-05-04'\n",
    "\n",
    "estados_posibles = [1,2,3]\n",
    "\n",
    "categorias = [\"incendio intencional\", \"robo\", \"hurto\",\n",
    "              \"robo de vehiculo\", \"mercaderia ilegal\", \n",
    "              \"comercio de pinguinos\", \"transporte de armas\"]\n",
    "\n",
    "centro_latitud = 40.744010\n",
    "centro_longitud = -73.993943\n",
    "radio_circulo_grados = 0.01"
   ]
  },
  {
   "cell_type": "code",
   "execution_count": 44,
   "metadata": {
    "ExecuteTime": {
     "end_time": "2024-05-12T13:41:56.647775Z",
     "start_time": "2024-05-12T13:41:56.641296Z"
    }
   },
   "outputs": [],
   "source": [
    "fecha_inicio = pd.to_datetime(fecha_inicio)\n",
    "fecha_fin = pd.to_datetime(fecha_fin)\n",
    "\n",
    "# Genera todas las horas posibles en ese rango de fechas\n",
    "all_hours = pd.date_range(fecha_inicio, fecha_fin, freq='h')\n",
    "\n",
    "random_dates = np.random.choice(all_hours, num_datos)\n",
    "\n",
    "# Convierte el resultado a una serie de pandas\n",
    "random_dates = pd.Series(random_dates)\n",
    "\n",
    "random_dates.sort_values(inplace=True)"
   ]
  },
  {
   "cell_type": "code",
   "execution_count": 45,
   "metadata": {
    "ExecuteTime": {
     "end_time": "2024-05-12T13:41:56.663339Z",
     "start_time": "2024-05-12T13:41:56.647775Z"
    }
   },
   "outputs": [
    {
     "data": {
      "text/html": [
       "<div>\n",
       "<style scoped>\n",
       "    .dataframe tbody tr th:only-of-type {\n",
       "        vertical-align: middle;\n",
       "    }\n",
       "\n",
       "    .dataframe tbody tr th {\n",
       "        vertical-align: top;\n",
       "    }\n",
       "\n",
       "    .dataframe thead th {\n",
       "        text-align: right;\n",
       "    }\n",
       "</style>\n",
       "<table border=\"1\" class=\"dataframe\">\n",
       "  <thead>\n",
       "    <tr style=\"text-align: right;\">\n",
       "      <th></th>\n",
       "      <th>fecha</th>\n",
       "      <th>id_caso</th>\n",
       "      <th>descripcion</th>\n",
       "      <th>estado_caso</th>\n",
       "      <th>categoria</th>\n",
       "      <th>latitud</th>\n",
       "      <th>longitud</th>\n",
       "    </tr>\n",
       "  </thead>\n",
       "  <tbody>\n",
       "    <tr>\n",
       "      <th>8998</th>\n",
       "      <td>2022-01-25 00:00:00</td>\n",
       "      <td>0</td>\n",
       "      <td>s/d</td>\n",
       "      <td>2</td>\n",
       "      <td>robo</td>\n",
       "      <td>40.741344</td>\n",
       "      <td>-74.003243</td>\n",
       "    </tr>\n",
       "    <tr>\n",
       "      <th>3828</th>\n",
       "      <td>2022-01-25 09:00:00</td>\n",
       "      <td>1</td>\n",
       "      <td>s/d</td>\n",
       "      <td>3</td>\n",
       "      <td>transporte de armas</td>\n",
       "      <td>40.740767</td>\n",
       "      <td>-73.995798</td>\n",
       "    </tr>\n",
       "    <tr>\n",
       "      <th>8441</th>\n",
       "      <td>2022-01-25 10:00:00</td>\n",
       "      <td>2</td>\n",
       "      <td>s/d</td>\n",
       "      <td>2</td>\n",
       "      <td>comercio de pinguinos</td>\n",
       "      <td>40.753579</td>\n",
       "      <td>-74.000437</td>\n",
       "    </tr>\n",
       "    <tr>\n",
       "      <th>9253</th>\n",
       "      <td>2022-01-25 14:00:00</td>\n",
       "      <td>3</td>\n",
       "      <td>s/d</td>\n",
       "      <td>2</td>\n",
       "      <td>incendio intencional</td>\n",
       "      <td>40.748401</td>\n",
       "      <td>-73.993990</td>\n",
       "    </tr>\n",
       "    <tr>\n",
       "      <th>3311</th>\n",
       "      <td>2022-01-25 17:00:00</td>\n",
       "      <td>4</td>\n",
       "      <td>s/d</td>\n",
       "      <td>2</td>\n",
       "      <td>robo de vehiculo</td>\n",
       "      <td>40.743804</td>\n",
       "      <td>-73.992243</td>\n",
       "    </tr>\n",
       "  </tbody>\n",
       "</table>\n",
       "</div>"
      ],
      "text/plain": [
       "                   fecha  id_caso descripcion  estado_caso  \\\n",
       "8998 2022-01-25 00:00:00        0         s/d            2   \n",
       "3828 2022-01-25 09:00:00        1         s/d            3   \n",
       "8441 2022-01-25 10:00:00        2         s/d            2   \n",
       "9253 2022-01-25 14:00:00        3         s/d            2   \n",
       "3311 2022-01-25 17:00:00        4         s/d            2   \n",
       "\n",
       "                  categoria    latitud   longitud  \n",
       "8998                   robo  40.741344 -74.003243  \n",
       "3828    transporte de armas  40.740767 -73.995798  \n",
       "8441  comercio de pinguinos  40.753579 -74.000437  \n",
       "9253   incendio intencional  40.748401 -73.993990  \n",
       "3311       robo de vehiculo  40.743804 -73.992243  "
      ]
     },
     "execution_count": 45,
     "metadata": {},
     "output_type": "execute_result"
    }
   ],
   "source": [
    "df = pd.DataFrame({\n",
    "    'fecha': random_dates,\n",
    "    'id_caso': np.arange(num_datos),\n",
    "    'descripcion': [\"s/d\"]*num_datos,\n",
    "    'estado_caso': np.concatenate((\n",
    "                np.random.choice(estados_posibles, int(num_datos/2), p=[0.3, 0.6, 0.1]),\n",
    "                np.random.choice(estados_posibles, int(num_datos/2), p=[0.15, 0.75, 0.1])\n",
    "                )),\n",
    "    'categoria': np.random.choice(categorias, num_datos),\n",
    "    'latitud': centro_latitud + radio_circulo_grados * (2*np.random.rand(num_datos)-1),\n",
    "    'longitud': centro_longitud + radio_circulo_grados * (2*np.random.rand(num_datos)-1)\n",
    "})\n",
    "df.head()"
   ]
  },
  {
   "cell_type": "code",
   "execution_count": 46,
   "metadata": {
    "ExecuteTime": {
     "end_time": "2024-05-12T13:41:56.666905Z",
     "start_time": "2024-05-12T13:41:56.663339Z"
    }
   },
   "outputs": [],
   "source": [
    "df.reset_index(drop=True, inplace=True)"
   ]
  },
  {
   "cell_type": "code",
   "execution_count": 47,
   "metadata": {
    "ExecuteTime": {
     "end_time": "2024-05-12T13:41:56.676128Z",
     "start_time": "2024-05-12T13:41:56.666905Z"
    }
   },
   "outputs": [
    {
     "data": {
      "text/html": [
       "<div>\n",
       "<style scoped>\n",
       "    .dataframe tbody tr th:only-of-type {\n",
       "        vertical-align: middle;\n",
       "    }\n",
       "\n",
       "    .dataframe tbody tr th {\n",
       "        vertical-align: top;\n",
       "    }\n",
       "\n",
       "    .dataframe thead th {\n",
       "        text-align: right;\n",
       "    }\n",
       "</style>\n",
       "<table border=\"1\" class=\"dataframe\">\n",
       "  <thead>\n",
       "    <tr style=\"text-align: right;\">\n",
       "      <th></th>\n",
       "      <th>fecha</th>\n",
       "      <th>id_caso</th>\n",
       "      <th>descripcion</th>\n",
       "      <th>estado_caso</th>\n",
       "      <th>categoria</th>\n",
       "      <th>latitud</th>\n",
       "      <th>longitud</th>\n",
       "    </tr>\n",
       "  </thead>\n",
       "  <tbody>\n",
       "    <tr>\n",
       "      <th>0</th>\n",
       "      <td>2022-01-25 00:00:00</td>\n",
       "      <td>0</td>\n",
       "      <td>s/d</td>\n",
       "      <td>2</td>\n",
       "      <td>robo</td>\n",
       "      <td>40.741344</td>\n",
       "      <td>-74.003243</td>\n",
       "    </tr>\n",
       "    <tr>\n",
       "      <th>1</th>\n",
       "      <td>2022-01-25 09:00:00</td>\n",
       "      <td>1</td>\n",
       "      <td>s/d</td>\n",
       "      <td>3</td>\n",
       "      <td>transporte de armas</td>\n",
       "      <td>40.740767</td>\n",
       "      <td>-73.995798</td>\n",
       "    </tr>\n",
       "    <tr>\n",
       "      <th>2</th>\n",
       "      <td>2022-01-25 10:00:00</td>\n",
       "      <td>2</td>\n",
       "      <td>s/d</td>\n",
       "      <td>2</td>\n",
       "      <td>comercio de pinguinos</td>\n",
       "      <td>40.753579</td>\n",
       "      <td>-74.000437</td>\n",
       "    </tr>\n",
       "    <tr>\n",
       "      <th>3</th>\n",
       "      <td>2022-01-25 14:00:00</td>\n",
       "      <td>3</td>\n",
       "      <td>s/d</td>\n",
       "      <td>2</td>\n",
       "      <td>incendio intencional</td>\n",
       "      <td>40.748401</td>\n",
       "      <td>-73.993990</td>\n",
       "    </tr>\n",
       "    <tr>\n",
       "      <th>4</th>\n",
       "      <td>2022-01-25 17:00:00</td>\n",
       "      <td>4</td>\n",
       "      <td>s/d</td>\n",
       "      <td>2</td>\n",
       "      <td>robo de vehiculo</td>\n",
       "      <td>40.743804</td>\n",
       "      <td>-73.992243</td>\n",
       "    </tr>\n",
       "    <tr>\n",
       "      <th>...</th>\n",
       "      <td>...</td>\n",
       "      <td>...</td>\n",
       "      <td>...</td>\n",
       "      <td>...</td>\n",
       "      <td>...</td>\n",
       "      <td>...</td>\n",
       "      <td>...</td>\n",
       "    </tr>\n",
       "    <tr>\n",
       "      <th>9995</th>\n",
       "      <td>2024-05-03 18:00:00</td>\n",
       "      <td>9995</td>\n",
       "      <td>s/d</td>\n",
       "      <td>1</td>\n",
       "      <td>comercio de pinguinos</td>\n",
       "      <td>40.737852</td>\n",
       "      <td>-73.992351</td>\n",
       "    </tr>\n",
       "    <tr>\n",
       "      <th>9996</th>\n",
       "      <td>2024-05-03 18:00:00</td>\n",
       "      <td>9996</td>\n",
       "      <td>s/d</td>\n",
       "      <td>2</td>\n",
       "      <td>hurto</td>\n",
       "      <td>40.739308</td>\n",
       "      <td>-74.000690</td>\n",
       "    </tr>\n",
       "    <tr>\n",
       "      <th>9997</th>\n",
       "      <td>2024-05-03 20:00:00</td>\n",
       "      <td>9997</td>\n",
       "      <td>s/d</td>\n",
       "      <td>2</td>\n",
       "      <td>robo</td>\n",
       "      <td>40.741509</td>\n",
       "      <td>-73.998346</td>\n",
       "    </tr>\n",
       "    <tr>\n",
       "      <th>9998</th>\n",
       "      <td>2024-05-03 23:00:00</td>\n",
       "      <td>9998</td>\n",
       "      <td>s/d</td>\n",
       "      <td>2</td>\n",
       "      <td>incendio intencional</td>\n",
       "      <td>40.738673</td>\n",
       "      <td>-73.999573</td>\n",
       "    </tr>\n",
       "    <tr>\n",
       "      <th>9999</th>\n",
       "      <td>2024-05-03 23:00:00</td>\n",
       "      <td>9999</td>\n",
       "      <td>s/d</td>\n",
       "      <td>2</td>\n",
       "      <td>hurto</td>\n",
       "      <td>40.747097</td>\n",
       "      <td>-73.984577</td>\n",
       "    </tr>\n",
       "  </tbody>\n",
       "</table>\n",
       "<p>10000 rows × 7 columns</p>\n",
       "</div>"
      ],
      "text/plain": [
       "                   fecha  id_caso descripcion  estado_caso  \\\n",
       "0    2022-01-25 00:00:00        0         s/d            2   \n",
       "1    2022-01-25 09:00:00        1         s/d            3   \n",
       "2    2022-01-25 10:00:00        2         s/d            2   \n",
       "3    2022-01-25 14:00:00        3         s/d            2   \n",
       "4    2022-01-25 17:00:00        4         s/d            2   \n",
       "...                  ...      ...         ...          ...   \n",
       "9995 2024-05-03 18:00:00     9995         s/d            1   \n",
       "9996 2024-05-03 18:00:00     9996         s/d            2   \n",
       "9997 2024-05-03 20:00:00     9997         s/d            2   \n",
       "9998 2024-05-03 23:00:00     9998         s/d            2   \n",
       "9999 2024-05-03 23:00:00     9999         s/d            2   \n",
       "\n",
       "                  categoria    latitud   longitud  \n",
       "0                      robo  40.741344 -74.003243  \n",
       "1       transporte de armas  40.740767 -73.995798  \n",
       "2     comercio de pinguinos  40.753579 -74.000437  \n",
       "3      incendio intencional  40.748401 -73.993990  \n",
       "4          robo de vehiculo  40.743804 -73.992243  \n",
       "...                     ...        ...        ...  \n",
       "9995  comercio de pinguinos  40.737852 -73.992351  \n",
       "9996                  hurto  40.739308 -74.000690  \n",
       "9997                   robo  40.741509 -73.998346  \n",
       "9998   incendio intencional  40.738673 -73.999573  \n",
       "9999                  hurto  40.747097 -73.984577  \n",
       "\n",
       "[10000 rows x 7 columns]"
      ]
     },
     "execution_count": 47,
     "metadata": {},
     "output_type": "execute_result"
    }
   ],
   "source": [
    "df"
   ]
  },
  {
   "cell_type": "markdown",
   "metadata": {},
   "source": [
    "## **a) Las categorias que hayan incrementado su tasa de resolución al menos un 10% en el último trimestre, con respecto al trimestre anterior.**"
   ]
  },
  {
   "cell_type": "markdown",
   "metadata": {},
   "source": [
    "Se considera los trimestres del año."
   ]
  },
  {
   "cell_type": "code",
   "execution_count": 48,
   "metadata": {
    "ExecuteTime": {
     "end_time": "2024-05-12T13:41:56.685690Z",
     "start_time": "2024-05-12T13:41:56.676128Z"
    }
   },
   "outputs": [],
   "source": [
    "# Convertir la columna de fecha a datetime\n",
    "df['fecha'] = pd.to_datetime(df['fecha'])"
   ]
  },
  {
   "cell_type": "code",
   "execution_count": 49,
   "metadata": {
    "ExecuteTime": {
     "end_time": "2024-05-12T13:41:56.697444Z",
     "start_time": "2024-05-12T13:41:56.685690Z"
    }
   },
   "outputs": [
    {
     "data": {
      "text/plain": [
       "fecha   categoria            \n",
       "2022Q1  comercio de pinguinos    77\n",
       "        hurto                    58\n",
       "        incendio intencional     62\n",
       "        mercaderia ilegal        60\n",
       "        robo                     81\n",
       "                                 ..\n",
       "2024Q2  incendio intencional     50\n",
       "        mercaderia ilegal        45\n",
       "        robo                     32\n",
       "        robo de vehiculo         47\n",
       "        transporte de armas      58\n",
       "Length: 70, dtype: int64"
      ]
     },
     "execution_count": 49,
     "metadata": {},
     "output_type": "execute_result"
    }
   ],
   "source": [
    "# Agrupamos por trimestre y categoria. \n",
    "df_resuelto = df[df['estado_caso'] == 2].groupby([df['fecha'].dt.to_period('Q'), 'categoria']).size()\n",
    "df_resuelto"
   ]
  },
  {
   "cell_type": "code",
   "execution_count": 50,
   "metadata": {
    "ExecuteTime": {
     "end_time": "2024-05-12T13:41:56.706613Z",
     "start_time": "2024-05-12T13:41:56.697444Z"
    }
   },
   "outputs": [
    {
     "data": {
      "text/plain": [
       "fecha   categoria            \n",
       "2022Q1  comercio de pinguinos    128\n",
       "        hurto                     96\n",
       "        incendio intencional     116\n",
       "        mercaderia ilegal         99\n",
       "        robo                     135\n",
       "                                ... \n",
       "2024Q2  incendio intencional      69\n",
       "        mercaderia ilegal         64\n",
       "        robo                      46\n",
       "        robo de vehiculo          65\n",
       "        transporte de armas       70\n",
       "Length: 70, dtype: int64"
      ]
     },
     "execution_count": 50,
     "metadata": {},
     "output_type": "execute_result"
    }
   ],
   "source": [
    "df_total = df.groupby([df['fecha'].dt.to_period('Q'), 'categoria']).size()\n",
    "df_total"
   ]
  },
  {
   "cell_type": "code",
   "execution_count": 51,
   "metadata": {
    "ExecuteTime": {
     "end_time": "2024-05-12T13:41:56.713978Z",
     "start_time": "2024-05-12T13:41:56.706613Z"
    }
   },
   "outputs": [
    {
     "data": {
      "text/plain": [
       "fecha   categoria            \n",
       "2022Q1  comercio de pinguinos    0.601562\n",
       "        hurto                    0.604167\n",
       "        incendio intencional     0.534483\n",
       "        mercaderia ilegal        0.606061\n",
       "        robo                     0.600000\n",
       "                                   ...   \n",
       "2024Q2  incendio intencional     0.724638\n",
       "        mercaderia ilegal        0.703125\n",
       "        robo                     0.695652\n",
       "        robo de vehiculo         0.723077\n",
       "        transporte de armas      0.828571\n",
       "Length: 70, dtype: float64"
      ]
     },
     "execution_count": 51,
     "metadata": {},
     "output_type": "execute_result"
    }
   ],
   "source": [
    "tasa_resolucion = df_resuelto / df_total\n",
    "tasa_resolucion"
   ]
  },
  {
   "cell_type": "code",
   "execution_count": 52,
   "metadata": {
    "ExecuteTime": {
     "end_time": "2024-05-12T13:42:15.992242Z",
     "start_time": "2024-05-12T13:42:15.982945Z"
    }
   },
   "outputs": [
    {
     "data": {
      "text/plain": [
       "fecha   categoria            \n",
       "2024Q1  comercio de pinguinos         NaN\n",
       "        hurto                         NaN\n",
       "        incendio intencional          NaN\n",
       "        mercaderia ilegal             NaN\n",
       "        robo                          NaN\n",
       "        robo de vehiculo              NaN\n",
       "        transporte de armas           NaN\n",
       "2024Q2  comercio de pinguinos   -0.002634\n",
       "        hurto                    0.115830\n",
       "        incendio intencional    -0.056604\n",
       "        mercaderia ilegal       -0.157462\n",
       "        robo                    -0.106398\n",
       "        robo de vehiculo        -0.089459\n",
       "        transporte de armas      0.089418\n",
       "dtype: float64"
      ]
     },
     "execution_count": 52,
     "metadata": {},
     "output_type": "execute_result"
    }
   ],
   "source": [
    "tasa_resolucion_ultimo_trimestre = tasa_resolucion.loc['2024Q1':].groupby(\"categoria\").transform(lambda x: x.pct_change())\n",
    "tasa_resolucion_ultimo_trimestre"
   ]
  },
  {
   "cell_type": "code",
   "execution_count": 53,
   "metadata": {
    "ExecuteTime": {
     "end_time": "2024-05-12T13:41:56.735324Z",
     "start_time": "2024-05-12T13:41:56.733427Z"
    }
   },
   "outputs": [
    {
     "data": {
      "text/plain": [
       "fecha   categoria\n",
       "2024Q2  hurto        0.11583\n",
       "dtype: float64"
      ]
     },
     "execution_count": 53,
     "metadata": {},
     "output_type": "execute_result"
    }
   ],
   "source": [
    "tasa_resolucion_ultimo_trimestre[(tasa_resolucion_ultimo_trimestre) >= 0.1]"
   ]
  },
  {
   "cell_type": "markdown",
   "metadata": {},
   "source": [
    "## **Resolución 2**\n",
    "Si se interpreta los ultimos 6 meses y no trimestre."
   ]
  },
  {
   "cell_type": "code",
   "execution_count": 54,
   "metadata": {},
   "outputs": [
    {
     "data": {
      "text/plain": [
       "Timestamp('2024-05-03 23:00:00')"
      ]
     },
     "execution_count": 54,
     "metadata": {},
     "output_type": "execute_result"
    }
   ],
   "source": [
    "df[\"fecha\"].iloc[-1]"
   ]
  },
  {
   "cell_type": "markdown",
   "metadata": {},
   "source": [
    "Si el dataset estuvise sin orden por fechas"
   ]
  },
  {
   "cell_type": "code",
   "execution_count": 55,
   "metadata": {},
   "outputs": [
    {
     "name": "stderr",
     "output_type": "stream",
     "text": [
      "C:\\Users\\lufer\\AppData\\Local\\Temp\\ipykernel_5484\\377761606.py:4: SettingWithCopyWarning: \n",
      "A value is trying to be set on a copy of a slice from a DataFrame.\n",
      "Try using .loc[row_indexer,col_indexer] = value instead\n",
      "\n",
      "See the caveats in the documentation: https://pandas.pydata.org/pandas-docs/stable/user_guide/indexing.html#returning-a-view-versus-a-copy\n",
      "  ultimos_6meses['trimestre'] = (fecha_fin - ultimos_6meses['fecha']) <= pd.Timedelta('90 days')\n"
     ]
    }
   ],
   "source": [
    "# fecha_fin - pd.DateOffset(months=6): Resta 6 meses a la fecha final\n",
    "ultimos_6meses = df[(fecha_fin - pd.DateOffset(months=6) <= df.fecha) \n",
    "                    & (df.fecha <= fecha_fin)]\n",
    "ultimos_6meses['trimestre'] = (fecha_fin - ultimos_6meses['fecha']) <= pd.Timedelta('90 days')"
   ]
  },
  {
   "cell_type": "code",
   "execution_count": 56,
   "metadata": {},
   "outputs": [
    {
     "name": "stderr",
     "output_type": "stream",
     "text": [
      "C:\\Users\\lufer\\AppData\\Local\\Temp\\ipykernel_5484\\3788036758.py:2: SettingWithCopyWarning: \n",
      "A value is trying to be set on a copy of a slice from a DataFrame.\n",
      "Try using .loc[row_indexer,col_indexer] = value instead\n",
      "\n",
      "See the caveats in the documentation: https://pandas.pydata.org/pandas-docs/stable/user_guide/indexing.html#returning-a-view-versus-a-copy\n",
      "  ultimos_6meses['trimestre'] = 1 * ultimos_6meses['trimestre']\n"
     ]
    }
   ],
   "source": [
    "# Coerción a número, simplemente para que sea más sencillo manipularlo\n",
    "ultimos_6meses['trimestre'] = 1 * ultimos_6meses['trimestre']"
   ]
  },
  {
   "cell_type": "code",
   "execution_count": 57,
   "metadata": {},
   "outputs": [
    {
     "data": {
      "text/plain": [
       "categoria              trimestre  estado_caso\n",
       "comercio de pinguinos  0          1               31\n",
       "                                  2              126\n",
       "                                  3               19\n",
       "                       1          1               22\n",
       "                                  2              112\n",
       "                                  3               23\n",
       "hurto                  0          1               25\n",
       "                                  2              118\n",
       "                                  3               12\n",
       "                       1          1               25\n",
       "                                  2              119\n",
       "                                  3               16\n",
       "incendio intencional   0          1               23\n",
       "                                  2              116\n",
       "                                  3               20\n",
       "                       1          1               18\n",
       "                                  2              114\n",
       "                                  3               16\n",
       "mercaderia ilegal      0          1               21\n",
       "                                  2              102\n",
       "                                  3               14\n",
       "                       1          1               25\n",
       "                                  2              121\n",
       "                                  3               10\n",
       "robo                   0          1               25\n",
       "                                  2              124\n",
       "                                  3               21\n",
       "                       1          1               25\n",
       "                                  2              114\n",
       "                                  3               10\n",
       "robo de vehiculo       0          1               23\n",
       "                                  2              117\n",
       "                                  3               21\n",
       "                       1          1               27\n",
       "                                  2              134\n",
       "                                  3               13\n",
       "transporte de armas    0          1               21\n",
       "                                  2              100\n",
       "                                  3               15\n",
       "                       1          1               17\n",
       "                                  2              128\n",
       "                                  3               13\n",
       "dtype: int64"
      ]
     },
     "execution_count": 57,
     "metadata": {},
     "output_type": "execute_result"
    }
   ],
   "source": [
    "casos_agrupados = ultimos_6meses.groupby(['categoria','trimestre', 'estado_caso']).agg('size')\n",
    "casos_agrupados"
   ]
  },
  {
   "cell_type": "code",
   "execution_count": 58,
   "metadata": {},
   "outputs": [
    {
     "data": {
      "text/html": [
       "<div>\n",
       "<style scoped>\n",
       "    .dataframe tbody tr th:only-of-type {\n",
       "        vertical-align: middle;\n",
       "    }\n",
       "\n",
       "    .dataframe tbody tr th {\n",
       "        vertical-align: top;\n",
       "    }\n",
       "\n",
       "    .dataframe thead th {\n",
       "        text-align: right;\n",
       "    }\n",
       "</style>\n",
       "<table border=\"1\" class=\"dataframe\">\n",
       "  <thead>\n",
       "    <tr style=\"text-align: right;\">\n",
       "      <th></th>\n",
       "      <th>estado_caso</th>\n",
       "      <th>1</th>\n",
       "      <th>2</th>\n",
       "      <th>3</th>\n",
       "    </tr>\n",
       "    <tr>\n",
       "      <th>categoria</th>\n",
       "      <th>trimestre</th>\n",
       "      <th></th>\n",
       "      <th></th>\n",
       "      <th></th>\n",
       "    </tr>\n",
       "  </thead>\n",
       "  <tbody>\n",
       "    <tr>\n",
       "      <th rowspan=\"2\" valign=\"top\">comercio de pinguinos</th>\n",
       "      <th>0</th>\n",
       "      <td>31</td>\n",
       "      <td>126</td>\n",
       "      <td>19</td>\n",
       "    </tr>\n",
       "    <tr>\n",
       "      <th>1</th>\n",
       "      <td>22</td>\n",
       "      <td>112</td>\n",
       "      <td>23</td>\n",
       "    </tr>\n",
       "    <tr>\n",
       "      <th rowspan=\"2\" valign=\"top\">hurto</th>\n",
       "      <th>0</th>\n",
       "      <td>25</td>\n",
       "      <td>118</td>\n",
       "      <td>12</td>\n",
       "    </tr>\n",
       "    <tr>\n",
       "      <th>1</th>\n",
       "      <td>25</td>\n",
       "      <td>119</td>\n",
       "      <td>16</td>\n",
       "    </tr>\n",
       "    <tr>\n",
       "      <th rowspan=\"2\" valign=\"top\">incendio intencional</th>\n",
       "      <th>0</th>\n",
       "      <td>23</td>\n",
       "      <td>116</td>\n",
       "      <td>20</td>\n",
       "    </tr>\n",
       "    <tr>\n",
       "      <th>1</th>\n",
       "      <td>18</td>\n",
       "      <td>114</td>\n",
       "      <td>16</td>\n",
       "    </tr>\n",
       "    <tr>\n",
       "      <th rowspan=\"2\" valign=\"top\">mercaderia ilegal</th>\n",
       "      <th>0</th>\n",
       "      <td>21</td>\n",
       "      <td>102</td>\n",
       "      <td>14</td>\n",
       "    </tr>\n",
       "    <tr>\n",
       "      <th>1</th>\n",
       "      <td>25</td>\n",
       "      <td>121</td>\n",
       "      <td>10</td>\n",
       "    </tr>\n",
       "    <tr>\n",
       "      <th rowspan=\"2\" valign=\"top\">robo</th>\n",
       "      <th>0</th>\n",
       "      <td>25</td>\n",
       "      <td>124</td>\n",
       "      <td>21</td>\n",
       "    </tr>\n",
       "    <tr>\n",
       "      <th>1</th>\n",
       "      <td>25</td>\n",
       "      <td>114</td>\n",
       "      <td>10</td>\n",
       "    </tr>\n",
       "    <tr>\n",
       "      <th rowspan=\"2\" valign=\"top\">robo de vehiculo</th>\n",
       "      <th>0</th>\n",
       "      <td>23</td>\n",
       "      <td>117</td>\n",
       "      <td>21</td>\n",
       "    </tr>\n",
       "    <tr>\n",
       "      <th>1</th>\n",
       "      <td>27</td>\n",
       "      <td>134</td>\n",
       "      <td>13</td>\n",
       "    </tr>\n",
       "    <tr>\n",
       "      <th rowspan=\"2\" valign=\"top\">transporte de armas</th>\n",
       "      <th>0</th>\n",
       "      <td>21</td>\n",
       "      <td>100</td>\n",
       "      <td>15</td>\n",
       "    </tr>\n",
       "    <tr>\n",
       "      <th>1</th>\n",
       "      <td>17</td>\n",
       "      <td>128</td>\n",
       "      <td>13</td>\n",
       "    </tr>\n",
       "  </tbody>\n",
       "</table>\n",
       "</div>"
      ],
      "text/plain": [
       "estado_caso                       1    2   3\n",
       "categoria             trimestre             \n",
       "comercio de pinguinos 0          31  126  19\n",
       "                      1          22  112  23\n",
       "hurto                 0          25  118  12\n",
       "                      1          25  119  16\n",
       "incendio intencional  0          23  116  20\n",
       "                      1          18  114  16\n",
       "mercaderia ilegal     0          21  102  14\n",
       "                      1          25  121  10\n",
       "robo                  0          25  124  21\n",
       "                      1          25  114  10\n",
       "robo de vehiculo      0          23  117  21\n",
       "                      1          27  134  13\n",
       "transporte de armas   0          21  100  15\n",
       "                      1          17  128  13"
      ]
     },
     "execution_count": 58,
     "metadata": {},
     "output_type": "execute_result"
    }
   ],
   "source": [
    "casos_agrupados = casos_agrupados.unstack(level=\"estado_caso\")\n",
    "casos_agrupados"
   ]
  },
  {
   "cell_type": "code",
   "execution_count": 59,
   "metadata": {},
   "outputs": [
    {
     "data": {
      "text/html": [
       "<div>\n",
       "<style scoped>\n",
       "    .dataframe tbody tr th:only-of-type {\n",
       "        vertical-align: middle;\n",
       "    }\n",
       "\n",
       "    .dataframe tbody tr th {\n",
       "        vertical-align: top;\n",
       "    }\n",
       "\n",
       "    .dataframe thead th {\n",
       "        text-align: right;\n",
       "    }\n",
       "</style>\n",
       "<table border=\"1\" class=\"dataframe\">\n",
       "  <thead>\n",
       "    <tr style=\"text-align: right;\">\n",
       "      <th></th>\n",
       "      <th>estado_caso</th>\n",
       "      <th>1</th>\n",
       "      <th>2</th>\n",
       "      <th>3</th>\n",
       "      <th>resueltosporc</th>\n",
       "    </tr>\n",
       "    <tr>\n",
       "      <th>categoria</th>\n",
       "      <th>trimestre</th>\n",
       "      <th></th>\n",
       "      <th></th>\n",
       "      <th></th>\n",
       "      <th></th>\n",
       "    </tr>\n",
       "  </thead>\n",
       "  <tbody>\n",
       "    <tr>\n",
       "      <th rowspan=\"2\" valign=\"top\">comercio de pinguinos</th>\n",
       "      <th>0</th>\n",
       "      <td>31</td>\n",
       "      <td>126</td>\n",
       "      <td>19</td>\n",
       "      <td>0.715909</td>\n",
       "    </tr>\n",
       "    <tr>\n",
       "      <th>1</th>\n",
       "      <td>22</td>\n",
       "      <td>112</td>\n",
       "      <td>23</td>\n",
       "      <td>0.713376</td>\n",
       "    </tr>\n",
       "    <tr>\n",
       "      <th rowspan=\"2\" valign=\"top\">hurto</th>\n",
       "      <th>0</th>\n",
       "      <td>25</td>\n",
       "      <td>118</td>\n",
       "      <td>12</td>\n",
       "      <td>0.761290</td>\n",
       "    </tr>\n",
       "    <tr>\n",
       "      <th>1</th>\n",
       "      <td>25</td>\n",
       "      <td>119</td>\n",
       "      <td>16</td>\n",
       "      <td>0.743750</td>\n",
       "    </tr>\n",
       "    <tr>\n",
       "      <th rowspan=\"2\" valign=\"top\">incendio intencional</th>\n",
       "      <th>0</th>\n",
       "      <td>23</td>\n",
       "      <td>116</td>\n",
       "      <td>20</td>\n",
       "      <td>0.729560</td>\n",
       "    </tr>\n",
       "    <tr>\n",
       "      <th>1</th>\n",
       "      <td>18</td>\n",
       "      <td>114</td>\n",
       "      <td>16</td>\n",
       "      <td>0.770270</td>\n",
       "    </tr>\n",
       "    <tr>\n",
       "      <th rowspan=\"2\" valign=\"top\">mercaderia ilegal</th>\n",
       "      <th>0</th>\n",
       "      <td>21</td>\n",
       "      <td>102</td>\n",
       "      <td>14</td>\n",
       "      <td>0.744526</td>\n",
       "    </tr>\n",
       "    <tr>\n",
       "      <th>1</th>\n",
       "      <td>25</td>\n",
       "      <td>121</td>\n",
       "      <td>10</td>\n",
       "      <td>0.775641</td>\n",
       "    </tr>\n",
       "    <tr>\n",
       "      <th rowspan=\"2\" valign=\"top\">robo</th>\n",
       "      <th>0</th>\n",
       "      <td>25</td>\n",
       "      <td>124</td>\n",
       "      <td>21</td>\n",
       "      <td>0.729412</td>\n",
       "    </tr>\n",
       "    <tr>\n",
       "      <th>1</th>\n",
       "      <td>25</td>\n",
       "      <td>114</td>\n",
       "      <td>10</td>\n",
       "      <td>0.765101</td>\n",
       "    </tr>\n",
       "    <tr>\n",
       "      <th rowspan=\"2\" valign=\"top\">robo de vehiculo</th>\n",
       "      <th>0</th>\n",
       "      <td>23</td>\n",
       "      <td>117</td>\n",
       "      <td>21</td>\n",
       "      <td>0.726708</td>\n",
       "    </tr>\n",
       "    <tr>\n",
       "      <th>1</th>\n",
       "      <td>27</td>\n",
       "      <td>134</td>\n",
       "      <td>13</td>\n",
       "      <td>0.770115</td>\n",
       "    </tr>\n",
       "    <tr>\n",
       "      <th rowspan=\"2\" valign=\"top\">transporte de armas</th>\n",
       "      <th>0</th>\n",
       "      <td>21</td>\n",
       "      <td>100</td>\n",
       "      <td>15</td>\n",
       "      <td>0.735294</td>\n",
       "    </tr>\n",
       "    <tr>\n",
       "      <th>1</th>\n",
       "      <td>17</td>\n",
       "      <td>128</td>\n",
       "      <td>13</td>\n",
       "      <td>0.810127</td>\n",
       "    </tr>\n",
       "  </tbody>\n",
       "</table>\n",
       "</div>"
      ],
      "text/plain": [
       "estado_caso                       1    2   3  resueltosporc\n",
       "categoria             trimestre                            \n",
       "comercio de pinguinos 0          31  126  19       0.715909\n",
       "                      1          22  112  23       0.713376\n",
       "hurto                 0          25  118  12       0.761290\n",
       "                      1          25  119  16       0.743750\n",
       "incendio intencional  0          23  116  20       0.729560\n",
       "                      1          18  114  16       0.770270\n",
       "mercaderia ilegal     0          21  102  14       0.744526\n",
       "                      1          25  121  10       0.775641\n",
       "robo                  0          25  124  21       0.729412\n",
       "                      1          25  114  10       0.765101\n",
       "robo de vehiculo      0          23  117  21       0.726708\n",
       "                      1          27  134  13       0.770115\n",
       "transporte de armas   0          21  100  15       0.735294\n",
       "                      1          17  128  13       0.810127"
      ]
     },
     "execution_count": 59,
     "metadata": {},
     "output_type": "execute_result"
    }
   ],
   "source": [
    "casos_agrupados['resueltosporc'] = casos_agrupados[2] / (casos_agrupados[1] + casos_agrupados[2] + casos_agrupados[3])\n",
    "casos_agrupados"
   ]
  },
  {
   "cell_type": "code",
   "execution_count": 60,
   "metadata": {},
   "outputs": [
    {
     "data": {
      "text/html": [
       "<div>\n",
       "<style scoped>\n",
       "    .dataframe tbody tr th:only-of-type {\n",
       "        vertical-align: middle;\n",
       "    }\n",
       "\n",
       "    .dataframe tbody tr th {\n",
       "        vertical-align: top;\n",
       "    }\n",
       "\n",
       "    .dataframe thead tr th {\n",
       "        text-align: left;\n",
       "    }\n",
       "\n",
       "    .dataframe thead tr:last-of-type th {\n",
       "        text-align: right;\n",
       "    }\n",
       "</style>\n",
       "<table border=\"1\" class=\"dataframe\">\n",
       "  <thead>\n",
       "    <tr>\n",
       "      <th>estado_caso</th>\n",
       "      <th colspan=\"2\" halign=\"left\">1</th>\n",
       "      <th colspan=\"2\" halign=\"left\">2</th>\n",
       "      <th colspan=\"2\" halign=\"left\">3</th>\n",
       "      <th colspan=\"2\" halign=\"left\">resueltosporc</th>\n",
       "    </tr>\n",
       "    <tr>\n",
       "      <th>trimestre</th>\n",
       "      <th>0</th>\n",
       "      <th>1</th>\n",
       "      <th>0</th>\n",
       "      <th>1</th>\n",
       "      <th>0</th>\n",
       "      <th>1</th>\n",
       "      <th>0</th>\n",
       "      <th>1</th>\n",
       "    </tr>\n",
       "    <tr>\n",
       "      <th>categoria</th>\n",
       "      <th></th>\n",
       "      <th></th>\n",
       "      <th></th>\n",
       "      <th></th>\n",
       "      <th></th>\n",
       "      <th></th>\n",
       "      <th></th>\n",
       "      <th></th>\n",
       "    </tr>\n",
       "  </thead>\n",
       "  <tbody>\n",
       "    <tr>\n",
       "      <th>comercio de pinguinos</th>\n",
       "      <td>31</td>\n",
       "      <td>22</td>\n",
       "      <td>126</td>\n",
       "      <td>112</td>\n",
       "      <td>19</td>\n",
       "      <td>23</td>\n",
       "      <td>0.715909</td>\n",
       "      <td>0.713376</td>\n",
       "    </tr>\n",
       "    <tr>\n",
       "      <th>hurto</th>\n",
       "      <td>25</td>\n",
       "      <td>25</td>\n",
       "      <td>118</td>\n",
       "      <td>119</td>\n",
       "      <td>12</td>\n",
       "      <td>16</td>\n",
       "      <td>0.761290</td>\n",
       "      <td>0.743750</td>\n",
       "    </tr>\n",
       "    <tr>\n",
       "      <th>incendio intencional</th>\n",
       "      <td>23</td>\n",
       "      <td>18</td>\n",
       "      <td>116</td>\n",
       "      <td>114</td>\n",
       "      <td>20</td>\n",
       "      <td>16</td>\n",
       "      <td>0.729560</td>\n",
       "      <td>0.770270</td>\n",
       "    </tr>\n",
       "    <tr>\n",
       "      <th>mercaderia ilegal</th>\n",
       "      <td>21</td>\n",
       "      <td>25</td>\n",
       "      <td>102</td>\n",
       "      <td>121</td>\n",
       "      <td>14</td>\n",
       "      <td>10</td>\n",
       "      <td>0.744526</td>\n",
       "      <td>0.775641</td>\n",
       "    </tr>\n",
       "    <tr>\n",
       "      <th>robo</th>\n",
       "      <td>25</td>\n",
       "      <td>25</td>\n",
       "      <td>124</td>\n",
       "      <td>114</td>\n",
       "      <td>21</td>\n",
       "      <td>10</td>\n",
       "      <td>0.729412</td>\n",
       "      <td>0.765101</td>\n",
       "    </tr>\n",
       "    <tr>\n",
       "      <th>robo de vehiculo</th>\n",
       "      <td>23</td>\n",
       "      <td>27</td>\n",
       "      <td>117</td>\n",
       "      <td>134</td>\n",
       "      <td>21</td>\n",
       "      <td>13</td>\n",
       "      <td>0.726708</td>\n",
       "      <td>0.770115</td>\n",
       "    </tr>\n",
       "    <tr>\n",
       "      <th>transporte de armas</th>\n",
       "      <td>21</td>\n",
       "      <td>17</td>\n",
       "      <td>100</td>\n",
       "      <td>128</td>\n",
       "      <td>15</td>\n",
       "      <td>13</td>\n",
       "      <td>0.735294</td>\n",
       "      <td>0.810127</td>\n",
       "    </tr>\n",
       "  </tbody>\n",
       "</table>\n",
       "</div>"
      ],
      "text/plain": [
       "estado_caso             1        2        3     resueltosporc          \n",
       "trimestre               0   1    0    1   0   1             0         1\n",
       "categoria                                                              \n",
       "comercio de pinguinos  31  22  126  112  19  23      0.715909  0.713376\n",
       "hurto                  25  25  118  119  12  16      0.761290  0.743750\n",
       "incendio intencional   23  18  116  114  20  16      0.729560  0.770270\n",
       "mercaderia ilegal      21  25  102  121  14  10      0.744526  0.775641\n",
       "robo                   25  25  124  114  21  10      0.729412  0.765101\n",
       "robo de vehiculo       23  27  117  134  21  13      0.726708  0.770115\n",
       "transporte de armas    21  17  100  128  15  13      0.735294  0.810127"
      ]
     },
     "execution_count": 60,
     "metadata": {},
     "output_type": "execute_result"
    }
   ],
   "source": [
    "casos_agrupados = casos_agrupados.unstack(level=\"trimestre\")\n",
    "casos_agrupados"
   ]
  },
  {
   "cell_type": "code",
   "execution_count": 61,
   "metadata": {},
   "outputs": [
    {
     "data": {
      "text/plain": [
       "array([], dtype=object)"
      ]
     },
     "execution_count": 61,
     "metadata": {},
     "output_type": "execute_result"
    }
   ],
   "source": [
    "casos_agrupados[casos_agrupados[\"resueltosporc\"][1] >= (casos_agrupados[\"resueltosporc\"][0] + 0.1)].index.values"
   ]
  },
  {
   "cell_type": "markdown",
   "metadata": {},
   "source": [
    "## **b) Tasa de participación de Batman por categoria, para los delitos contra la propiedad (que enmarcan las categorías incendio intencional, robo, hurto y robo de vehiculos).**"
   ]
  },
  {
   "cell_type": "code",
   "execution_count": 62,
   "metadata": {},
   "outputs": [],
   "source": []
  },
  {
   "cell_type": "code",
   "execution_count": null,
   "metadata": {},
   "outputs": [],
   "source": []
  }
 ],
 "metadata": {
  "kernelspec": {
   "display_name": "Python 3",
   "language": "python",
   "name": "python3"
  },
  "language_info": {
   "codemirror_mode": {
    "name": "ipython",
    "version": 3
   },
   "file_extension": ".py",
   "mimetype": "text/x-python",
   "name": "python",
   "nbconvert_exporter": "python",
   "pygments_lexer": "ipython3",
   "version": "3.10.10"
  },
  "toc": {
   "base_numbering": 1,
   "nav_menu": {},
   "number_sections": true,
   "sideBar": true,
   "skip_h1_title": false,
   "title_cell": "Table of Contents",
   "title_sidebar": "Contents",
   "toc_cell": false,
   "toc_position": {},
   "toc_section_display": true,
   "toc_window_display": false
  }
 },
 "nbformat": 4,
 "nbformat_minor": 2
}
