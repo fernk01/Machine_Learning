{
 "cells": [
  {
   "cell_type": "markdown",
   "metadata": {},
   "source": [
    "# IQR"
   ]
  },
  {
   "cell_type": "code",
   "execution_count": 7,
   "metadata": {},
   "outputs": [
    {
     "name": "stdout",
     "output_type": "stream",
     "text": [
      "Outliers:\n",
      "     Valores\n",
      "10       50\n",
      "\n",
      "Data sin outliers:\n",
      "    Valores\n",
      "0       10\n",
      "1       12\n",
      "2       14\n",
      "3       15\n",
      "4       18\n",
      "5       19\n",
      "6       20\n",
      "7       21\n",
      "8       22\n",
      "9       23\n"
     ]
    }
   ],
   "source": [
    "import pandas as pd\n",
    "\n",
    "# Crear un DataFrame de ejemplo\n",
    "data = {'Valores': [10, 12, 14, 15, 18, 19, 20, 21, 22, 23, 50]}\n",
    "df = pd.DataFrame(data)\n",
    "\n",
    "# Calcular Q1 (primer cuartil) y Q3 (tercer cuartil)\n",
    "Q1 = df['Valores'].quantile(0.25)\n",
    "Q3 = df['Valores'].quantile(0.75)\n",
    "IQR = Q3 - Q1\n",
    "\n",
    "# Definir los límites para detectar outliers\n",
    "lower_bound = Q1 - 1.5 * IQR\n",
    "upper_bound = Q3 + 1.5 * IQR\n",
    "\n",
    "# Filtrar los outliers\n",
    "outliers = df[(df['Valores'] < lower_bound) | (df['Valores'] > upper_bound)]\n",
    "cleaned_df = df[(df['Valores'] >= lower_bound) & (df['Valores'] <= upper_bound)]\n",
    "\n",
    "print(\"Outliers:\\n\", outliers)\n",
    "print(\"\\nData sin outliers:\\n\", cleaned_df)\n"
   ]
  },
  {
   "cell_type": "code",
   "execution_count": 8,
   "metadata": {},
   "outputs": [
    {
     "data": {
      "image/png": "[encoded data removed]",
      "text/plain": [
       "<Figure size 640x480 with 1 Axes>"
      ]
     },
     "metadata": {},
     "output_type": "display_data"
    }
   ],
   "source": [
    "import matplotlib.pyplot as plt\n",
    "df.boxplot(column='Valores')\n",
    "plt.show()\n"
   ]
  },
  {
   "cell_type": "markdown",
   "metadata": {},
   "source": [
    "# Distancia de Mahalanobis"
   ]
  },
  {
   "cell_type": "markdown",
   "metadata": {},
   "source": [
    "Para calcular la **distancia de Mahalanobis** paso a paso, vamos a trabajar con un ejemplo sencillo usando Python. Supongamos que tenemos un conjunto de datos bidimensionales ($X$) con dos variables $x_1$ y $x_2$."
   ]
  },
  {
   "cell_type": "markdown",
   "metadata": {},
   "source": [
    "Supongamos que tenemos los siguientes datos:\n",
    "\n",
    "| $x_1$ | $x_2$ |\n",
    "|--------|--------|\n",
    "| 2.5    | 3.5    |\n",
    "| 3.2    | 3.8    |\n",
    "| 3.0    | 4.0    |\n",
    "| 2.8    | 3.6    |\n",
    "| 3.4    | 4.2    |\n",
    "| 2.9    | 3.7    |\n",
    "| 3.1    | 3.9    |\n",
    "\n",
    "Y queremos calcular la distancia de Mahalanobis para el punto $[3.0, 3.5]$ respecto al conjunto de datos."
   ]
  },
  {
   "cell_type": "markdown",
   "metadata": {},
   "source": [
    "## Paso 1: Calcular la media de cada variable"
   ]
  },
  {
   "cell_type": "markdown",
   "metadata": {},
   "source": [
    "Calculamos el vector media $\\mu$ de los datos.\n",
    "\n",
    "$$ \\mu_1 = \\text{media de } x_1 = \\frac{2.5 + 3.2 + 3.0 + 2.8 + 3.4 + 2.9 + 3.1}{7} = 2.9857\n",
    "$$\n",
    "$$ \\mu_2 = \\text{media de } x_2 = \\frac{3.5 + 3.8 + 4.0 + 3.6 + 4.2 + 3.7 + 3.9}{7} = 3.8143\n",
    "$$\n",
    "\n",
    "El vector de medias es: $\\mu = [2.9857, 3.8143]$"
   ]
  },
  {
   "cell_type": "markdown",
   "metadata": {},
   "source": [
    "## Paso 2: Calcular la matriz de covarianza"
   ]
  },
  {
   "cell_type": "markdown",
   "metadata": {},
   "source": [
    "La matriz de covarianza se calcula usando las variables $x_1$ y $x_2$.\n",
    "\n",
    "$$\n",
    "\\Sigma = \\text{cov}(X) =\n",
    "\\begin{bmatrix}\n",
    "\\text{var}(x_1) & \\text{cov}(x_1, x_2) \\\\\n",
    "\\text{cov}(x_2, x_1) & \\text{var}(x_2)\n",
    "\\end{bmatrix}\n",
    "$$"
   ]
  },
  {
   "cell_type": "code",
   "execution_count": 1,
   "metadata": {},
   "outputs": [
    {
     "name": "stdout",
     "output_type": "stream",
     "text": [
      "[[0.0847619  0.06190476]\n",
      " [0.06190476 0.05809524]]\n"
     ]
    }
   ],
   "source": [
    "import numpy as np\n",
    "\n",
    "# Datos\n",
    "X = np.array([[2.5, 3.5],\n",
    "              [3.2, 3.8],\n",
    "              [3.0, 4.0],\n",
    "              [2.8, 3.6],\n",
    "              [3.4, 4.2],\n",
    "              [2.9, 3.7],\n",
    "              [3.1, 3.9]])\n",
    "\n",
    "# Matriz de covarianza\n",
    "cov_matrix = np.cov(X, rowvar=False)\n",
    "print(cov_matrix)"
   ]
  },
  {
   "cell_type": "markdown",
   "metadata": {},
   "source": [
    "## Paso 3: Calcular la inversa de la matriz de covarianza"
   ]
  },
  {
   "cell_type": "markdown",
   "metadata": {},
   "source": [
    "Calculamos la inversa de la matriz de covarianza $\\Sigma^{-1}$"
   ]
  },
  {
   "cell_type": "code",
   "execution_count": 2,
   "metadata": {},
   "outputs": [
    {
     "name": "stdout",
     "output_type": "stream",
     "text": [
      "[[ 53.19767442 -56.68604651]\n",
      " [-56.68604651  77.61627907]]\n"
     ]
    }
   ],
   "source": [
    "inv_cov_matrix = np.linalg.inv(cov_matrix)\n",
    "print(inv_cov_matrix)"
   ]
  },
  {
   "cell_type": "markdown",
   "metadata": {},
   "source": [
    "## Paso 4: Restar el vector media al punto dado"
   ]
  },
  {
   "cell_type": "markdown",
   "metadata": {},
   "source": [
    "Restamos el vector media $\\mu = [2.9857, 3.8143]$ del punto $[3.0, 3.5]$:\n",
    "\n",
    "$$x - \\mu = [3.0, 3.5] - [2.9857, 3.8143] = [0.0143, -0.3143]$$"
   ]
  },
  {
   "cell_type": "code",
   "execution_count": 3,
   "metadata": {},
   "outputs": [
    {
     "name": "stdout",
     "output_type": "stream",
     "text": [
      "2.861199362858153\n"
     ]
    }
   ],
   "source": [
    "x = np.array([3.0, 3.5])\n",
    "mean = np.mean(X, axis=0)\n",
    "diff = x - mean\n",
    "\n",
    "# Distancia de Mahalanobis\n",
    "D_M = np.sqrt(np.dot(np.dot(diff, inv_cov_matrix), diff.T))\n",
    "print(D_M)"
   ]
  },
  {
   "cell_type": "markdown",
   "metadata": {},
   "source": [
    "Esto significa que el punto $[3.0, 3.5]$ está a una distancia de 2.86 de la media multivariada de los datos, según la distribución de los mismos."
   ]
  },
  {
   "cell_type": "markdown",
   "metadata": {},
   "source": [
    "## Interpretación:"
   ]
  },
  {
   "cell_type": "markdown",
   "metadata": {},
   "source": [
    "En general, los puntos con una distancia de Mahalanobis alta se consideran **outliers**. Un umbral común para detectar outliers es usar la distribución $\\chi^2$, comparando la distancia con el cuantil de esta distribución para determinar si un punto es un valor atípico"
   ]
  }
 ],
 "metadata": {
  "kernelspec": {
   "display_name": "Python 3",
   "language": "python",
   "name": "python3"
  },
  "language_info": {
   "codemirror_mode": {
    "name": "ipython",
    "version": 3
   },
   "file_extension": ".py",
   "mimetype": "text/x-python",
   "name": "python",
   "nbconvert_exporter": "python",
   "pygments_lexer": "ipython3",
   "version": "3.10.10"
  }
 },
 "nbformat": 4,
 "nbformat_minor": 2
}
