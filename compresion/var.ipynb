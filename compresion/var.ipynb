{
 "cells": [
  {
   "cell_type": "code",
   "execution_count": null,
   "metadata": {},
   "outputs": [],
   "source": [
    "# abirmos un archivo de texto y calcuamos su bytes\n",
    "# y su tamaño en bytes\n",
    "\n",
    "def main():\n",
    "    # abrimos el archivo en modo lectura\n",
    "    archivo = open('archivo.txt', 'r')\n",
    "    # leemos el archivo\n",
    "    texto = archivo.read()\n",
    "    # cerramos el archivo\n",
    "    archivo.close()\n",
    "    # calculamos el tamaño del archivo\n",
    "    tamaño = len(texto)\n",
    "    # imprimimos el texto y su tamaño\n",
    "    print(texto)\n",
    "    print(f'El archivo tiene {tamaño} bytes')"
   ]
  }
 ],
 "metadata": {
  "language_info": {
   "name": "python"
  }
 },
 "nbformat": 4,
 "nbformat_minor": 2
}
