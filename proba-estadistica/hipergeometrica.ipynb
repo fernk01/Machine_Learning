{
 "cells": [
  {
   "cell_type": "markdown",
   "metadata": {},
   "source": [
    "# Simulacion de la distribucion hipergeometrica"
   ]
  },
  {
   "cell_type": "markdown",
   "metadata": {},
   "source": [
    "Definimos la distribución hipergeométrica como sigue:\n",
    "$$ P(X = k) = \\frac{{\\binom{K}{k} \\binom{N-K}{n-k}}}{{\\binom{N}{n}}} $$\n",
    "\n",
    "Donde:\n",
    "- $N$ es el número total de elementos\n",
    "- $K$ es el número total de elementos de la clase que nos interesa\n",
    "- $n$ es el número de elementos que se seleccionan"
   ]
  },
  {
   "cell_type": "markdown",
   "metadata": {},
   "source": [
    "En una urna hay 6 bolas rojas, 5 azules y 4 verdes. Se extraen 2. Si $X$ la cantidad de bolas rojas extraídas e $Y$ la cantidad de azules."
   ]
  },
  {
   "cell_type": "markdown",
   "metadata": {},
   "source": [
    "$$ P(X = x, Y = y) = \\frac{{6 \\choose x} {5 \\choose y} {4 \\choose 2 - x - y}}{{15 \\choose 2}} $$"
   ]
  },
  {
   "cell_type": "code",
   "execution_count": 1,
   "metadata": {},
   "outputs": [
    {
     "name": "stdout",
     "output_type": "stream",
     "text": [
      "Muestras aleatorias de X (bolas rojas): [0 0 0 2 1 0 2 1 0 0]\n",
      "Muestras aleatorias de Y (bolas azules): [1 1 1 1 1 0 0 1 1 1]\n"
     ]
    }
   ],
   "source": [
    "from scipy.stats import hypergeom\n",
    "\n",
    "# Parámetros de la distribución hipergeométrica\n",
    "N_total = 15  # Tamaño total de la población (total de bolas en la urna)\n",
    "N_rojas = 6   # Número de bolas rojas en la urna\n",
    "N_azules = 5  # Número de bolas azules en la urna\n",
    "n_extracciones = 2  # Número de extracciones\n",
    "\n",
    "# Crear objetos de la distribución hipergeométrica para X (bolas rojas) e Y (bolas azules)\n",
    "distribucion_X = hypergeom(N_total, N_rojas, n_extracciones)\n",
    "distribucion_Y = hypergeom(N_total, N_azules, n_extracciones)\n",
    "\n",
    "# Generar muestras aleatorias de X y Y\n",
    "muestra_X = distribucion_X.rvs(size=10)  # Generar 10 muestras aleatorias de X\n",
    "muestra_Y = distribucion_Y.rvs(size=10)  # Generar 10 muestras aleatorias de Y\n",
    "\n",
    "print(\"Muestras aleatorias de X (bolas rojas):\", muestra_X)\n",
    "print(\"Muestras aleatorias de Y (bolas azules):\", muestra_Y)\n"
   ]
  },
  {
   "cell_type": "code",
   "execution_count": 2,
   "metadata": {},
   "outputs": [],
   "source": [
    "# calcular la probabilidad de la variable aleatoria X (bolas rojas) y Y (bolas azules)\n",
    "probabilidad_X = distribucion_X.pmf(muestra_X)\n",
    "probabilidad_Y = distribucion_Y.pmf(muestra_Y)"
   ]
  },
  {
   "cell_type": "code",
   "execution_count": 3,
   "metadata": {},
   "outputs": [
    {
     "data": {
      "text/plain": [
       "array([0.34285714, 0.34285714, 0.34285714, 0.14285714, 0.51428571,\n",
       "       0.34285714, 0.14285714, 0.51428571, 0.34285714, 0.34285714])"
      ]
     },
     "execution_count": 3,
     "metadata": {},
     "output_type": "execute_result"
    }
   ],
   "source": [
    "probabilidad_X"
   ]
  }
 ],
 "metadata": {
  "kernelspec": {
   "display_name": "Python 3",
   "language": "python",
   "name": "python3"
  },
  "language_info": {
   "codemirror_mode": {
    "name": "ipython",
    "version": 3
   },
   "file_extension": ".py",
   "mimetype": "text/x-python",
   "name": "python",
   "nbconvert_exporter": "python",
   "pygments_lexer": "ipython3",
   "version": "3.10.10"
  }
 },
 "nbformat": 4,
 "nbformat_minor": 2
}
