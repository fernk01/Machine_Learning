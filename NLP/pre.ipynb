{
 "cells": [
  {
   "cell_type": "code",
   "execution_count": 65,
   "metadata": {},
   "outputs": [],
   "source": [
    "import pandas as pd\n",
    "import numpy as np\n",
    "\n",
    "import nltk\n",
    "from nltk.tokenize import word_tokenize"
   ]
  },
  {
   "cell_type": "code",
   "execution_count": 66,
   "metadata": {},
   "outputs": [
    {
     "data": {
      "text/plain": [
       "['La', 'cada', ',', '¿De', 'quien', 'estras', '?', 'cat', 'par-perro']"
      ]
     },
     "execution_count": 66,
     "metadata": {},
     "output_type": "execute_result"
    }
   ],
   "source": [
    "data = \"La cada, ¿De quien estras? cat par-perro\"\n",
    "\n",
    "# tokenization of sentence into words\n",
    "tokens = word_tokenize(data)\n",
    "tokens\n"
   ]
  },
  {
   "cell_type": "code",
   "execution_count": 67,
   "metadata": {},
   "outputs": [
    {
     "data": {
      "text/plain": [
       "9"
      ]
     },
     "execution_count": 67,
     "metadata": {},
     "output_type": "execute_result"
    }
   ],
   "source": [
    "len(tokens)"
   ]
  },
  {
   "cell_type": "markdown",
   "metadata": {},
   "source": [
    "Obtemeos `stop-words` nltk"
   ]
  },
  {
   "cell_type": "code",
   "execution_count": 68,
   "metadata": {},
   "outputs": [],
   "source": [
    "from nltk.corpus import stopwords\n",
    "\n",
    "stropwords = list(stopwords.words('spanish'))"
   ]
  },
  {
   "cell_type": "code",
   "execution_count": 69,
   "metadata": {},
   "outputs": [],
   "source": [
    "from sklearn.feature_extraction.text import CountVectorizer\n",
    "\n",
    "count_vectorizer = CountVectorizer(lowercase=True, stop_words=stropwords, max_features=5)\n",
    "\n",
    "corpus = ['Keras: Aunque es más conocida como una biblioteca de aprendizaje profundo, Keras', 'tambien proporciona utilidades para la tokenización de texto.']\n",
    "\n",
    "\n"
   ]
  },
  {
   "cell_type": "code",
   "execution_count": 70,
   "metadata": {},
   "outputs": [],
   "source": [
    "X = count_vectorizer.fit_transform(corpus)"
   ]
  },
  {
   "cell_type": "code",
   "execution_count": 72,
   "metadata": {},
   "outputs": [
    {
     "data": {
      "text/plain": [
       "{'keras': 4, 'aunque': 1, 'conocida': 3, 'biblioteca': 2, 'aprendizaje': 0}"
      ]
     },
     "execution_count": 72,
     "metadata": {},
     "output_type": "execute_result"
    }
   ],
   "source": [
    "count_vectorizer.vocabulary_"
   ]
  },
  {
   "cell_type": "markdown",
   "metadata": {},
   "source": [
    "## Bag of words (BD)"
   ]
  },
  {
   "cell_type": "code",
   "execution_count": 87,
   "metadata": {},
   "outputs": [
    {
     "name": "stdout",
     "output_type": "stream",
     "text": [
      "Características:  ['casa' 'de' 'documento' 'el' 'es' 'este' 'gato' 'la' 'los' 'macri'\n",
      " 'noruega' 'peces' 'primer' 'se' 'turra' 'van']\n",
      "Matriz de términos-documento: \n",
      " [[1 1 0 0 1 0 0 1 0 1 0 0 0 0 1 0]\n",
      " [0 0 0 0 1 0 1 0 0 1 0 0 0 0 0 0]\n",
      " [0 0 0 0 0 0 0 0 1 0 1 1 0 1 0 1]\n",
      " [0 0 1 1 1 1 0 0 0 0 0 0 1 0 0 0]]\n"
     ]
    }
   ],
   "source": [
    "from sklearn.feature_extraction.text import CountVectorizer\n",
    "\n",
    "# Definimos nuestro corpus de documentos\n",
    "corpus = [\n",
    "    'La casa de macri es turra',\n",
    "    'macri es gato',\n",
    "    'los peces se van a noruega',\n",
    "    '¿Es este el primer documento?',\n",
    "]\n",
    "\n",
    "# Creamos el vectorizador de conteo\n",
    "vectorizer = CountVectorizer()\n",
    "\n",
    "# Ajustamos y transformamos nuestro corpus\n",
    "X = vectorizer.fit_transform(corpus)\n",
    "\n",
    "# Obtenemos las características (palabras únicas en el corpus), retorna un nrray\n",
    "features = vectorizer.get_feature_names_out()\n",
    "\n",
    "# Imprimimos las características y la matriz de términos-documento\n",
    "print(\"Características: \", features)\n",
    "print(\"Matriz de términos-documento: \\n\", X.toarray())\n"
   ]
  },
  {
   "cell_type": "code",
   "execution_count": 88,
   "metadata": {},
   "outputs": [
    {
     "data": {
      "text/plain": [
       "{'la': 7,\n",
       " 'casa': 0,\n",
       " 'de': 1,\n",
       " 'macri': 9,\n",
       " 'es': 4,\n",
       " 'turra': 14,\n",
       " 'gato': 6,\n",
       " 'los': 8,\n",
       " 'peces': 11,\n",
       " 'se': 13,\n",
       " 'van': 15,\n",
       " 'noruega': 10,\n",
       " 'este': 5,\n",
       " 'el': 3,\n",
       " 'primer': 12,\n",
       " 'documento': 2}"
      ]
     },
     "execution_count": 88,
     "metadata": {},
     "output_type": "execute_result"
    }
   ],
   "source": [
    "# Obtenemos las características (palabras únicas en el corpus), retorna un dict\n",
    "vectorizer.vocabulary_"
   ]
  },
  {
   "cell_type": "code",
   "execution_count": 89,
   "metadata": {},
   "outputs": [
    {
     "data": {
      "text/plain": [
       "matrix([[0, 0, 0, 0, 0, 0, 0, 0, 1, 0, 0, 0, 0, 0, 0, 0]], dtype=int64)"
      ]
     },
     "execution_count": 89,
     "metadata": {},
     "output_type": "execute_result"
    }
   ],
   "source": [
    "vectorizer.transform([\"todos los gatos son noruegos\"]).todense()"
   ]
  },
  {
   "cell_type": "code",
   "execution_count": null,
   "metadata": {},
   "outputs": [],
   "source": []
  }
 ],
 "metadata": {
  "kernelspec": {
   "display_name": "Python 3",
   "language": "python",
   "name": "python3"
  },
  "language_info": {
   "codemirror_mode": {
    "name": "ipython",
    "version": 3
   },
   "file_extension": ".py",
   "mimetype": "text/x-python",
   "name": "python",
   "nbconvert_exporter": "python",
   "pygments_lexer": "ipython3",
   "version": "3.10.10"
  }
 },
 "nbformat": 4,
 "nbformat_minor": 2
}
