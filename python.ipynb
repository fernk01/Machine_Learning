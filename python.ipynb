{
 "cells": [
  {
   "cell_type": "markdown",
   "metadata": {},
   "source": [
    "# Tipos de datos en python"
   ]
  },
  {
   "cell_type": "markdown",
   "metadata": {},
   "source": [
    "Python es un lenguaje de **tipado dinámico**, lo que significa que no es necesario declarar explícitamente el tipo de una variable al crearla. Python deduce automáticamente el tipo de datos en función del valor asignado a la variable"
   ]
  },
  {
   "cell_type": "markdown",
   "metadata": {},
   "source": [
    "En Python, los tipos de datos nativos son aquellos que están integrados en el propio lenguaje y no requieren importar bibliotecas adicionales. Algunos de los tipos de datos nativos más comunes en Python incluyen:\n",
    "\n",
    "1. **Enteros (int):** Representan números enteros, por ejemplo, 5, -3, 1000.\n",
    "\n",
    "2. **Flotantes (float):** Representan números decimales, por ejemplo, 3.14, -0.001, 2.71828.\n",
    "\n",
    "3. **Booleanos (bool):** Representan valores de verdad, True o False.\n",
    "\n",
    "4. **Cadenas de texto (str):** Representan secuencias de caracteres, por ejemplo, \"Hola mundo\", \"Python es genial\".\n",
    "\n",
    "5. **Listas (list):** Representan colecciones ordenadas y mutables de elementos, por ejemplo, [1, 2, 3], [\"a\", \"b\", \"c\"].\n",
    "\n",
    "6. **Tuplas (tuple):** Representan colecciones ordenadas e inmutables de elementos, por ejemplo, (1, 2, 3), (\"a\", \"b\", \"c\").\n",
    "\n",
    "7. **Conjuntos (set):** Representan colecciones desordenadas y mutables de elementos únicos, por ejemplo, {1, 2, 3}, {\"a\", \"b\", \"c\"}.\n",
    "\n",
    "8. **Diccionarios (dict):** Representan colecciones de pares clave-valor, donde cada clave debe ser única, por ejemplo, {\"nombre\": \"Juan\", \"edad\": 30, \"ciudad\": \"Madrid\"}.\n",
    "\n",
    "Estos son los tipos de datos nativos más utilizados en Python, pero hay otros tipos de datos que pueden ser considerados también nativos, como los bytes y las bytearray para manejar datos binarios, y el tipo None para representar la ausencia de valor."
   ]
  },
  {
   "cell_type": "code",
   "execution_count": 1,
   "metadata": {},
   "outputs": [],
   "source": [
    "# entero\n",
    "entero = 1\n",
    "\n",
    "# flotante\n",
    "flotante = 1.0\n",
    "\n",
    "# cadena\n",
    "cadena = \"Hola Mundo\"\n",
    "\n",
    "# booleano\n",
    "booleano = True\n",
    "\n",
    "# lista\n",
    "lista = [1, 2, 3, 4, 5]\n",
    "\n",
    "# tupla\n",
    "tupla = (1, 2, 3, 4, 5)\n",
    "\n",
    "# diccionario\n",
    "diccionario = {\n",
    "    \"nombre\": \"Juan\",\n",
    "    \"edad\": 22,\n",
    "    \"ciudad\": \"Bogotá\"\n",
    "}\n",
    "\n",
    "# conjunto (set) inmutable\n",
    "conjunto = {1, 2, 3, 4, 5}\n",
    "\n",
    "# complex\n",
    "complejo = 1 + 2j"
   ]
  },
  {
   "cell_type": "markdown",
   "metadata": {},
   "source": [
    "# Funciones"
   ]
  },
  {
   "cell_type": "code",
   "execution_count": 15,
   "metadata": {},
   "outputs": [],
   "source": [
    "def suma(a, b):\n",
    "    return a + b"
   ]
  },
  {
   "cell_type": "code",
   "execution_count": 16,
   "metadata": {},
   "outputs": [
    {
     "name": "stdout",
     "output_type": "stream",
     "text": [
      "8\n"
     ]
    }
   ],
   "source": [
    "print(suma(3, 5))  # Output: 8"
   ]
  },
  {
   "cell_type": "markdown",
   "metadata": {},
   "source": [
    "# Class"
   ]
  },
  {
   "cell_type": "code",
   "execution_count": 17,
   "metadata": {},
   "outputs": [],
   "source": [
    "class Persona:\n",
    "    def __init__(self, nombre, edad):\n",
    "        self.nombre = nombre\n",
    "        self.edad = edad\n",
    "\n",
    "    def saludar(self):\n",
    "        print(f\"Hola, soy {self.nombre} y tengo {self.edad} años.\")"
   ]
  },
  {
   "cell_type": "code",
   "execution_count": 18,
   "metadata": {},
   "outputs": [
    {
     "name": "stdout",
     "output_type": "stream",
     "text": [
      "Hola, soy Juan y tengo 30 años.\n"
     ]
    }
   ],
   "source": [
    "# Crear un objeto de la clase Persona\n",
    "persona_juan = Persona(\"Juan\", 30)\n",
    "\n",
    "# Llamar al método saludar del objeto persona1\n",
    "persona_juan.saludar()"
   ]
  },
  {
   "cell_type": "markdown",
   "metadata": {},
   "source": [
    "# Bucles"
   ]
  },
  {
   "cell_type": "code",
   "execution_count": null,
   "metadata": {},
   "outputs": [],
   "source": [
    "for i in range(5):\n",
    "    print(i)  # Output: 0, 1, 2, 3, 4"
   ]
  },
  {
   "cell_type": "code",
   "execution_count": null,
   "metadata": {},
   "outputs": [],
   "source": [
    "while i < 10:\n",
    "    print(i)\n",
    "    i += 1"
   ]
  },
  {
   "cell_type": "code",
   "execution_count": 19,
   "metadata": {},
   "outputs": [],
   "source": [
    "a = range(5)"
   ]
  },
  {
   "cell_type": "markdown",
   "metadata": {},
   "source": [
    "# Rangos y enumerados"
   ]
  },
  {
   "cell_type": "markdown",
   "metadata": {},
   "source": [
    "El tipo range es un tipo especial en Python y permite crear una serie de elementos numérios de forma intuitiva. Crea un **iterador**.\n",
    "\n",
    "Las características principales de range son las siguientes:\n",
    "\n",
    "- Se crean en un intervalo de valores enteros.\n",
    "- Se puede especificar el paso.\n",
    "- Los enteros de comienzo, fin y paso pueden ser negativos.\n",
    "- Las iteraciones son muy eficientes en memoria en Python 3.\n",
    "- Se usan en bucles for, bucles while o construcciones por comprehensión principalmente.\n",
    "- La ejecución para cuando el valor a devolver es superior al valor de parada."
   ]
  },
  {
   "cell_type": "markdown",
   "metadata": {},
   "source": [
    "La sintáxis para la creación de rangos es la siguiente:\n",
    "\n",
    "**range(start, stop, step)**\n",
    "\n",
    "- range(stop): crea un iterador desde el 0 hasta el valor de stop añadiendo 1 en cada iteración.\n",
    "- range(start, stop): crea un iterador desde start hasta stop con paso 1.\n",
    "- range(start, stop, step): crea un iterador desde start hasta stop con paso step, entero."
   ]
  },
  {
   "cell_type": "code",
   "execution_count": 23,
   "metadata": {},
   "outputs": [],
   "source": [
    "rango = range(2, 10, 5)"
   ]
  },
  {
   "cell_type": "markdown",
   "metadata": {},
   "source": [
    "El tipo enumerate es un tipo auxiliar que ayuda a iterar una secuencia de elementos, obteniendo pares de elementos con la posición y el elemento.\n",
    "\n",
    "Sus características son las siguientes:\n",
    "\n",
    "- Devuelve un iterador de pares de valores.\n",
    "- Cada par de valores contiene la posición y el elemento.\n",
    "- Permiten cualquier tipo de datos.\n",
    "- Permite definir el primer número de indice a usar. Por defecto 0."
   ]
  },
  {
   "cell_type": "code",
   "execution_count": 25,
   "metadata": {},
   "outputs": [],
   "source": [
    "enumerador = enumerate([\"a\", \"b\", \"c\"])"
   ]
  },
  {
   "cell_type": "code",
   "execution_count": 26,
   "metadata": {},
   "outputs": [
    {
     "name": "stdout",
     "output_type": "stream",
     "text": [
      "0 a\n",
      "1 b\n",
      "2 c\n"
     ]
    }
   ],
   "source": [
    "for i, v in enumerador:\n",
    "    print(i, v)"
   ]
  },
  {
   "cell_type": "code",
   "execution_count": null,
   "metadata": {},
   "outputs": [],
   "source": []
  }
 ],
 "metadata": {
  "kernelspec": {
   "display_name": "Python 3",
   "language": "python",
   "name": "python3"
  },
  "language_info": {
   "codemirror_mode": {
    "name": "ipython",
    "version": 3
   },
   "file_extension": ".py",
   "mimetype": "text/x-python",
   "name": "python",
   "nbconvert_exporter": "python",
   "pygments_lexer": "ipython3",
   "version": "3.10.10"
  }
 },
 "nbformat": 4,
 "nbformat_minor": 2
}
